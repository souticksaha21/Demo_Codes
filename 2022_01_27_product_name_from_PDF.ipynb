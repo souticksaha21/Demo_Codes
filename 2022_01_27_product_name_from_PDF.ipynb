{
 "cells": [
  {
   "cell_type": "markdown",
   "id": "0ff22027",
   "metadata": {},
   "source": [
    "# This code detects possible product names from PDF"
   ]
  },
  {
   "cell_type": "markdown",
   "id": "154bd17e",
   "metadata": {},
   "source": [
    "This code will try to extract product names for now from a background database trying to match product names with the text in the PDF"
   ]
  },
  {
   "cell_type": "markdown",
   "id": "72b10dc3",
   "metadata": {},
   "source": [
    "If PyPDF2 is not in the system then use\n",
    "!pip install PyPDF2"
   ]
  },
  {
   "cell_type": "markdown",
   "id": "92c9a507",
   "metadata": {},
   "source": [
    "## Now we will write a program to extract text as a string from PDF"
   ]
  },
  {
   "cell_type": "code",
   "execution_count": null,
   "id": "ecd8026a",
   "metadata": {},
   "outputs": [],
   "source": [
    "def extract_text_from_PDF(PDF_filename):\n",
    "    import pdfplumber\n",
    "    pdf_string=\"\";\n",
    "    with pdfplumber.open(PDF_filename) as pdf:\n",
    "        for i in range(len(pdf.pages)):\n",
    "            page = pdf.pages[i]\n",
    "            pdf_string+=page.extract_text()\n",
    "    return (pdf_string.replace(\"\\n\", \" \")).replace(\"\\t\", \" \")"
   ]
  },
  {
   "cell_type": "markdown",
   "id": "a5b9bb9f",
   "metadata": {},
   "source": [
    "### An example of running the function extracting text from PDF"
   ]
  },
  {
   "cell_type": "code",
   "execution_count": null,
   "id": "894e420e",
   "metadata": {},
   "outputs": [],
   "source": [
    "#First lets view the PDF file\n",
    "#If pdfplumber not installed\n",
    "#!pip install pdfplumber\n",
    "extract_text_from_PDF(\"SDS_Benzene.pdf\")"
   ]
  },
  {
   "cell_type": "markdown",
   "id": "e9b3620a",
   "metadata": {},
   "source": [
    "# This part of the code returns a list of unique words from a string"
   ]
  },
  {
   "cell_type": "code",
   "execution_count": null,
   "id": "1686943b",
   "metadata": {},
   "outputs": [],
   "source": [
    "#This function extracts unique words from text as a list\n",
    "def unique_words_in_text(enter_string):\n",
    "    #replacing things with space bar\n",
    "    word_list0=enter_string.replace(\"\\n\",\" \")\n",
    "    word_list1=word_list0.replace(\".\",\" \")\n",
    "    word_list2=word_list1.replace(\",\",\" \")\n",
    "    word_list3=word_list2.replace(\":\",\" \")\n",
    "    word_list4=word_list3.replace(\";\",\" \")\n",
    "    word_list=word_list4.split() #extracting words from text\n",
    "    unique_words=[]\n",
    "    for i in range(len(word_list)):\n",
    "        if word_list[i] not in unique_words:\n",
    "            unique_words.append(word_list[i])\n",
    "    return unique_words"
   ]
  },
  {
   "cell_type": "markdown",
   "id": "71679e1c",
   "metadata": {},
   "source": [
    "## Let's try this on our SDS datasheet"
   ]
  },
  {
   "cell_type": "code",
   "execution_count": null,
   "id": "da1bd6fb",
   "metadata": {},
   "outputs": [],
   "source": [
    "unique_words_in_text(extract_text_from_PDF(\"SDS_Benzene.pdf\"))"
   ]
  },
  {
   "cell_type": "markdown",
   "id": "6bf2daff",
   "metadata": {},
   "source": [
    "This works great!"
   ]
  },
  {
   "cell_type": "markdown",
   "id": "b599b761",
   "metadata": {},
   "source": [
    "Now we are trying to find words from an excel sheet (format - https://docs.google.com/spreadsheets/d/1tLXhP7Mz898eXFKOc9N5ORoxysvbtk0B/edit?usp=sharing&ouid=100028279162467888332&rtpof=true&sd=true) and match it to the words in the PDF. For that we write the following function"
   ]
  },
  {
   "cell_type": "code",
   "execution_count": null,
   "id": "16ffe5cd",
   "metadata": {},
   "outputs": [],
   "source": [
    "import pandas as pd\n",
    "def unique_product_names_in_excel_file(insert_excel_file_name_with_extension):\n",
    "    with open('text_file_name.txt', 'w') as file:\n",
    "        pd.read_excel(insert_excel_file_name_with_extension).to_string(file, index=False)\n",
    "    df=pd.read_csv('text_file_name.txt', delimiter = \"\\t\")\n",
    "    new_word_list=[] #empty word list\n",
    "    for i in range(len(df[df.columns[0]].tolist())):\n",
    "        new_word_list.append(df[df.columns[0]].tolist()[i].replace(\" \",\"\"))\n",
    "    return new_word_list"
   ]
  },
  {
   "cell_type": "markdown",
   "id": "89d10852",
   "metadata": {},
   "source": [
    "### Let's see if the function works"
   ]
  },
  {
   "cell_type": "code",
   "execution_count": null,
   "id": "7600886b",
   "metadata": {},
   "outputs": [],
   "source": [
    "unique_product_names_in_excel_file('2022_01_27_product_name_from_PDF.xlsx')"
   ]
  },
  {
   "cell_type": "markdown",
   "id": "f9987d43",
   "metadata": {},
   "source": [
    "### This works great! So, now all we need to do is match our text from PDF to this new list. For that we write the following function"
   ]
  },
  {
   "cell_type": "code",
   "execution_count": null,
   "id": "c3b7362f",
   "metadata": {},
   "outputs": [],
   "source": [
    "def match_words_from_a_list(list_of_words,extracted_string):\n",
    "    matched_list=[] #list of words in the string that matches with list_of_words\n",
    "    if len(list_of_words)>0:\n",
    "        for i in range(len(list_of_words)):\n",
    "            if list_of_words[i].lower() in extracted_string.lower():\n",
    "                matched_list.append(list_of_words[i])\n",
    "        if len(matched_list)==0:\n",
    "            return 'Product name does not match with existing records.'\n",
    "        else:\n",
    "            string='Possible product can be'\n",
    "            if len(matched_list)==1:\n",
    "                string+=' '+matched_list[0]\n",
    "            else:\n",
    "                for j in range(len(matched_list)-1):\n",
    "                    string+=' '+matched_list[j]+' or'\n",
    "                string+=' '+matched_list[len(matched_list)-1]\n",
    "            return string\n",
    "    else:\n",
    "        return 'There is no product name in the list'"
   ]
  },
  {
   "cell_type": "markdown",
   "id": "ec7f134f",
   "metadata": {},
   "source": [
    "# Finally let us merge everything into a single function"
   ]
  },
  {
   "cell_type": "code",
   "execution_count": null,
   "id": "3a474069",
   "metadata": {},
   "outputs": [],
   "source": [
    "#Matching words from a list of words in a text file\n",
    "def find_product_names_from_a_PDF(insert_excel_file_name_with_extension,PDF_file_name_w_extension):\n",
    "    extracted_string=extract_text_from_PDF(PDF_file_name_w_extension)\n",
    "    return match_words_from_a_list(unique_product_names_in_excel_file(insert_excel_file_name_with_extension),extracted_string)"
   ]
  },
  {
   "cell_type": "markdown",
   "id": "4f3411c6",
   "metadata": {},
   "source": [
    "# Finally, let's see if this works"
   ]
  },
  {
   "cell_type": "code",
   "execution_count": null,
   "id": "b038dddf",
   "metadata": {},
   "outputs": [],
   "source": [
    "find_product_names_from_a_PDF('2022_01_27_product_name_from_PDF.xlsx','SDS_Benzene.pdf')"
   ]
  },
  {
   "cell_type": "markdown",
   "id": "2f79703e",
   "metadata": {},
   "source": [
    "# Amazing! so, this code works fine and can give us possible product names by matching with an excel file."
   ]
  },
  {
   "cell_type": "code",
   "execution_count": null,
   "id": "f8f81513",
   "metadata": {},
   "outputs": [],
   "source": []
  }
 ],
 "metadata": {
  "kernelspec": {
   "display_name": "Python 3",
   "language": "python",
   "name": "python3"
  },
  "language_info": {
   "codemirror_mode": {
    "name": "ipython",
    "version": 3
   },
   "file_extension": ".py",
   "mimetype": "text/x-python",
   "name": "python",
   "nbconvert_exporter": "python",
   "pygments_lexer": "ipython3",
   "version": "3.8.8"
  }
 },
 "nbformat": 4,
 "nbformat_minor": 5
}
