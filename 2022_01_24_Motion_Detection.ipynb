{
 "cells": [
  {
   "cell_type": "markdown",
   "id": "2dd09cdd",
   "metadata": {},
   "source": [
    "# Python program to implement webcam motion detector"
   ]
  },
  {
   "cell_type": "markdown",
   "id": "1db77951",
   "metadata": {},
   "source": [
    "This code is adapted from - https://www.geeksforgeeks.org/webcam-motion-detector-python/\n",
    "Video demo can be found at - https://drive.google.com/file/d/1VHFYPTDxZunDT95b8dLM1dSQ3rAGxZWM/view?usp=sharing\n"
   ]
  },
  {
   "cell_type": "code",
   "execution_count": null,
   "id": "1e0f15e8",
   "metadata": {},
   "outputs": [],
   "source": [
    "# importing OpenCV, time and Pandas library\n",
    "import cv2, time, pandas\n",
    "# importing datetime class from datetime library\n",
    "from datetime import datetime"
   ]
  },
  {
   "cell_type": "code",
   "execution_count": null,
   "id": "7e59d103",
   "metadata": {},
   "outputs": [],
   "source": [
    "# Assigning our static_back to None\n",
    "static_back = None\n",
    " \n",
    "# List when any moving object appear\n",
    "motion_list = [ None, None ]\n",
    " \n",
    "# Time of movement\n",
    "time = []"
   ]
  },
  {
   "cell_type": "code",
   "execution_count": null,
   "id": "d6e1d55c",
   "metadata": {},
   "outputs": [],
   "source": [
    "# Initializing DataFrame, one column is start\n",
    "# time and other column is end time\n",
    "df = pandas.DataFrame(columns = [\"Start\", \"End\"])\n",
    "print(time)\n"
   ]
  },
  {
   "cell_type": "markdown",
   "id": "ecb44b48",
   "metadata": {},
   "source": [
    "### The command below determines which camera will be used as commented. "
   ]
  },
  {
   "cell_type": "code",
   "execution_count": null,
   "id": "0204444a",
   "metadata": {},
   "outputs": [],
   "source": [
    "camera_to_use=1; #1 for external camera and 0 for laptop camera"
   ]
  },
  {
   "cell_type": "markdown",
   "id": "8a2dabe6",
   "metadata": {},
   "source": [
    "### The value below should be less than or equal to 255. The more the number is after, the more regions in the thresold frame will be black. This need to be tweaked based on the lighting condition to get good motion detection."
   ]
  },
  {
   "cell_type": "code",
   "execution_count": 1,
   "id": "20b5a484",
   "metadata": {},
   "outputs": [],
   "source": [
    "detection_thresold=80;"
   ]
  },
  {
   "cell_type": "code",
   "execution_count": null,
   "id": "c3d26bab",
   "metadata": {},
   "outputs": [],
   "source": [
    "# Capturing video\n",
    "video = cv2.VideoCapture(camera_to_use)\n",
    " \n",
    "# Infinite while loop to treat stack of image as video\n",
    "while True:\n",
    "    # Reading frame(image) from video\n",
    "    check, frame = video.read()\n",
    "\n",
    "    # Initializing motion = 0(no motion)\n",
    "    motion = 0\n",
    " \n",
    "    # Converting color image to gray_scale image\n",
    "    gray = cv2.cvtColor(frame, cv2.COLOR_BGR2GRAY)\n",
    " \n",
    "    # Converting gray scale image to GaussianBlur\n",
    "    # so that change can be find easily\n",
    "    gray = cv2.GaussianBlur(gray, (21, 21), 0)\n",
    " \n",
    "    # In first iteration we assign the value\n",
    "    # of static_back to our first frame\n",
    "    if static_back is None:\n",
    "        static_back = gray\n",
    "        continue\n",
    " \n",
    "    # Difference between static background\n",
    "    # and current frame(which is GaussianBlur)\n",
    "    diff_frame = cv2.absdiff(static_back, gray)\n",
    " \n",
    "    # If change in between static background and\n",
    "    # current frame is greater than detection_thresold it will show white color(255)\n",
    "    thresh_frame = cv2.threshold(diff_frame, detection_thresold, 255, cv2.THRESH_BINARY)[1]\n",
    "    thresh_frame = cv2.dilate(thresh_frame, None, iterations = 2)\n",
    " \n",
    "    # Finding contour of moving object\n",
    "    cnts,_ = cv2.findContours(thresh_frame.copy(),\n",
    "                       cv2.RETR_EXTERNAL, cv2.CHAIN_APPROX_SIMPLE)\n",
    " \n",
    "    for contour in cnts:\n",
    "        if cv2.contourArea(contour) < 10000:\n",
    "            continue\n",
    "        motion = 1\n",
    " \n",
    "        (x, y, w, h) = cv2.boundingRect(contour)\n",
    "        # making green rectangle around the moving object\n",
    "        cv2.rectangle(frame, (x, y), (x + w, y + h), (0, 255, 0), 3)\n",
    " \n",
    "    # Appending status of motion\n",
    "    motion_list.append(motion)\n",
    " \n",
    "    motion_list = motion_list[-2:]\n",
    " \n",
    "    # Appending Start time of motion\n",
    "    if motion_list[-1] == 1 and motion_list[-2] == 0:\n",
    "        time.append(datetime.now()) #Appending the current time\n",
    " \n",
    "    # Appending End time of motion\n",
    "    if motion_list[-1] == 0 and motion_list[-2] == 1:\n",
    "        time.append(datetime.now())\n",
    " \n",
    "    # Displaying image in gray_scale\n",
    "    cv2.imshow(\"Gray Frame\", gray)\n",
    " \n",
    "    # Displaying the difference in currentframe to\n",
    "    # the staticframe(very first_frame)\n",
    "    cv2.imshow(\"Difference Frame\", diff_frame)\n",
    " \n",
    "    # Displaying the black and white image in which if\n",
    "    # intensity difference greater than 30 it will appear white\n",
    "    cv2.imshow(\"Threshold Frame\", thresh_frame)\n",
    " \n",
    "    # Displaying color frame with contour of motion of object\n",
    "    cv2.imshow(\"Color Frame\", frame)\n",
    " \n",
    "    key = cv2.waitKey(1)\n",
    "    # if q entered whole process will stop\n",
    "    if key == ord('q'):\n",
    "        # if something is movingthen it append the end time of movement\n",
    "        if motion == 1:\n",
    "            time.append(datetime.now())\n",
    "        break\n",
    "\n",
    "#Appending time of motion in DataFrame\n",
    "#If no motion is captured the code would say so\n",
    "if len(time)<2:\n",
    "    print(\"No motion captured\")\n",
    "else:\n",
    "    for i in range(0, len(time), 2):\n",
    "        df = df.append({\"Start\":time[i], \"End\":time[i + 1]}, ignore_index = True)\n",
    "\n",
    "# Creating a CSV file in which time of movements will be saved\n",
    "df.to_csv(\"Time_of_movements.csv\")\n",
    "video.release()\n",
    " \n",
    "# Destroying all the windows\n",
    "cv2.destroyAllWindows()     \n",
    "    "
   ]
  },
  {
   "cell_type": "markdown",
   "id": "e529a8cf",
   "metadata": {},
   "source": [
    "### We now define a new file to store time of motion so that the date and time can be seperated"
   ]
  },
  {
   "cell_type": "code",
   "execution_count": null,
   "id": "6b7c1f53",
   "metadata": {},
   "outputs": [],
   "source": [
    "#Defining a new file to store time stamps\n",
    "df2 = pandas.DataFrame(columns = [\"Start Date\",\"Start Time\", \"End Date\",\"End Time\"])\n",
    "if len(time)<2:\n",
    "    print(\"No motion captured\")\n",
    "else:\n",
    "    for i in range(0, len(time), 2):\n",
    "        tsd= str(time[i].year)+\"/\"+str(time[i].month)+\"/\"+str(time[i].day)#start date\n",
    "        tst= str(time[i].hour)+\":\"+str(time[i].minute)+\":\"+str(time[i].second)#start time \n",
    "        \n",
    "        ted= str(time[i+1].year)+\"/\"+str(time[i+1].month)+\"/\"+str(time[i+1].day)#end date\n",
    "        tet= str(time[i+1].hour)+\":\"+str(time[i+1].minute)+\":\"+str(time[i+1].second)#end time\n",
    "        df2 = df2.append({\"Start Date\":tsd,\"Start Time\":tst, \"End Date\":ted,\"End Time\":tet}, ignore_index = True)\n",
    "# Creating a CSV file in which time of movements will be saved\n",
    "df2.to_csv(\"Time_and_date_of_movements.csv\")\n",
    "video.release()\n",
    " \n",
    "# Destroying all the windows\n",
    "cv2.destroyAllWindows()    "
   ]
  },
  {
   "cell_type": "code",
   "execution_count": null,
   "id": "b142cf3f",
   "metadata": {},
   "outputs": [],
   "source": [
    "time"
   ]
  },
  {
   "cell_type": "code",
   "execution_count": null,
   "id": "3dee5acc",
   "metadata": {},
   "outputs": [],
   "source": [
    "tsd"
   ]
  },
  {
   "cell_type": "code",
   "execution_count": null,
   "id": "004ab4c2",
   "metadata": {},
   "outputs": [],
   "source": [
    "time[0].day"
   ]
  },
  {
   "cell_type": "code",
   "execution_count": null,
   "id": "f74cb4a5",
   "metadata": {},
   "outputs": [],
   "source": [
    "len(time)"
   ]
  },
  {
   "cell_type": "code",
   "execution_count": null,
   "id": "db839530",
   "metadata": {},
   "outputs": [],
   "source": []
  }
 ],
 "metadata": {
  "kernelspec": {
   "display_name": "Python 3",
   "language": "python",
   "name": "python3"
  },
  "language_info": {
   "codemirror_mode": {
    "name": "ipython",
    "version": 3
   },
   "file_extension": ".py",
   "mimetype": "text/x-python",
   "name": "python",
   "nbconvert_exporter": "python",
   "pygments_lexer": "ipython3",
   "version": "3.8.8"
  }
 },
 "nbformat": 4,
 "nbformat_minor": 5
}
